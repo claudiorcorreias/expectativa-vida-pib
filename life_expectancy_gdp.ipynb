import pandas as pd
import numpy as np
import matplotlib.pyplot as plt
import seaborn as sns
# Carregar os dados
df = pd.read_csv('all_data.csv')
# Visualizar primeiras linhas
print(df.head())
# Estatísticas descritivas
print(df.describe())
# Configurar estilo dos gráficos
sns.set_style('whitegrid')
# Gráfico inicial de dispersão
plt.figure(figsize=(10,6))
sns.scatterplot(x='GDP', y='Life_Expectancy', hue='Country', data=df)
plt.title('Relação entre PIB e Expectativa de Vida')
plt.xlabel('PIB (USD)')
plt.ylabel('Expectativa de Vida (anos)')
plt.show()
